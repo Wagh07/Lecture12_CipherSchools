{
  "nbformat": 4,
  "nbformat_minor": 0,
  "metadata": {
    "colab": {
      "provenance": []
    },
    "kernelspec": {
      "name": "python3",
      "display_name": "Python 3"
    },
    "language_info": {
      "name": "python"
    }
  },
  "cells": [
    {
      "cell_type": "code",
      "source": [
        "# Dictionary Data type\n",
        "\n",
        "\"\"\" Initialisation \"\"\"\n",
        "\n",
        "d={}\n",
        "\n",
        "print(type(d))\n",
        "\n"
      ],
      "metadata": {
        "colab": {
          "base_uri": "https://localhost:8080/"
        },
        "id": "EH-J9XCRWLnm",
        "outputId": "ced0a8ab-06a2-4256-b8cb-b3352c905863"
      },
      "execution_count": 5,
      "outputs": [
        {
          "output_type": "stream",
          "name": "stdout",
          "text": [
            "<class 'dict'>\n"
          ]
        }
      ]
    },
    {
      "cell_type": "code",
      "source": [
        "\n",
        "# Key value pairs\n",
        "\n",
        "d={1:'abc',2:'efg',3:'xyz'}\n",
        "\n",
        "print(d)\n"
      ],
      "metadata": {
        "colab": {
          "base_uri": "https://localhost:8080/"
        },
        "id": "YVMfmzw7WzpU",
        "outputId": "02d5549e-7b62-439d-8a01-b32023219258"
      },
      "execution_count": 9,
      "outputs": [
        {
          "output_type": "stream",
          "name": "stdout",
          "text": [
            "{1: 'abc', 2: 'efg', 3: 'xyz'}\n"
          ]
        }
      ]
    },
    {
      "cell_type": "code",
      "source": [
        "# Accessing...key is passed\n",
        "\n",
        "print(d[1])"
      ],
      "metadata": {
        "colab": {
          "base_uri": "https://localhost:8080/"
        },
        "id": "jZt4VFj9Xj_E",
        "outputId": "1fc56114-c970-4a0d-e840-ced30f3a9a9e"
      },
      "execution_count": 10,
      "outputs": [
        {
          "output_type": "stream",
          "name": "stdout",
          "text": [
            "abc\n"
          ]
        }
      ]
    },
    {
      "cell_type": "code",
      "source": [
        "# Updating and Adding and deleting to Dictionary\n",
        "\n",
        "print(d)\n",
        "\n",
        "print(type(d))\n",
        "\n",
        "d['2']=4\n",
        "\n",
        "d[5]='fck'\n",
        "\n",
        "print(d)\n",
        "\n",
        "del d[1]\n",
        "\n",
        "print(d)\n"
      ],
      "metadata": {
        "colab": {
          "base_uri": "https://localhost:8080/"
        },
        "id": "xw-hhIziXsGn",
        "outputId": "c838edb4-ce8a-482d-ae76-83306d975218"
      },
      "execution_count": 15,
      "outputs": [
        {
          "output_type": "stream",
          "name": "stdout",
          "text": [
            "{1: 'abc', 2: 'efg', 3: 'xyz', '2': 4, 5: 'fck'}\n",
            "<class 'dict'>\n",
            "{1: 'abc', 2: 'efg', 3: 'xyz', '2': 4, 5: 'fck'}\n",
            "{2: 'efg', 3: 'xyz', '2': 4, 5: 'fck'}\n"
          ]
        }
      ]
    },
    {
      "cell_type": "code",
      "source": [
        "# Methods\n",
        "\n",
        "print(d.keys())\n",
        "\n",
        "print(d.values())\n",
        "\n",
        "print(d.items())"
      ],
      "metadata": {
        "colab": {
          "base_uri": "https://localhost:8080/"
        },
        "id": "1ALVeGKNYQ6S",
        "outputId": "ba90e4f8-ae0d-4743-dc3f-99785d9530ad"
      },
      "execution_count": 17,
      "outputs": [
        {
          "output_type": "stream",
          "name": "stdout",
          "text": [
            "dict_keys([2, 3, '2', 5])\n",
            "dict_values(['efg', 'xyz', 4, 'fck'])\n",
            "dict_items([(2, 'efg'), (3, 'xyz'), ('2', 4), (5, 'fck')])\n"
          ]
        }
      ]
    },
    {
      "cell_type": "code",
      "source": [
        "\n",
        "\"\"\"  HANDSON PRACTICE \"\"\"\n",
        "\n",
        "# Q ....  Create a dictionary using list and tuples where keys are A,B,C and values are 10,20,30\n",
        "\n",
        "a=[('A',10),('B',20),('C',30)]\n",
        "\n",
        "dict(a)\n"
      ],
      "metadata": {
        "colab": {
          "base_uri": "https://localhost:8080/"
        },
        "id": "ZJnE2LgwZIa_",
        "outputId": "ed782801-3dc3-4437-aeec-1403cefc8088"
      },
      "execution_count": 21,
      "outputs": [
        {
          "output_type": "execute_result",
          "data": {
            "text/plain": [
              "{'A': 10, 'B': 20, 'C': 30}"
            ]
          },
          "metadata": {},
          "execution_count": 21
        }
      ]
    },
    {
      "cell_type": "code",
      "source": [],
      "metadata": {
        "id": "cs5i2hERZ5kO"
      },
      "execution_count": null,
      "outputs": []
    }
  ]
}